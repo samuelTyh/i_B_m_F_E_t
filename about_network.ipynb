{
 "cells": [
  {
   "cell_type": "code",
   "execution_count": 1,
   "metadata": {},
   "outputs": [],
   "source": [
    "import os\n",
    "import pandas as pd\n",
    "import numpy as np\n",
    "from sklearn.preprocessing import LabelEncoder\n",
    "import time\n",
    "import tqdm\n",
    "import re\n",
    "from collections import Counter"
   ]
  },
  {
   "cell_type": "code",
   "execution_count": 2,
   "metadata": {},
   "outputs": [],
   "source": [
    "path = '/data/examples/ibmxfet/'\n",
    "\n",
    "file_dir = os.listdir(path)"
   ]
  },
  {
   "cell_type": "code",
   "execution_count": 3,
   "metadata": {},
   "outputs": [],
   "source": [
    "behavior = pd.read_csv(path+file_dir[3])\n",
    "network_sim = pd.read_csv(path+file_dir[4])"
   ]
  },
  {
   "cell_type": "code",
   "execution_count": 6,
   "metadata": {},
   "outputs": [
    {
     "data": {
      "text/plain": [
       "(31102164, 4)"
      ]
     },
     "execution_count": 6,
     "metadata": {},
     "output_type": "execute_result"
    }
   ],
   "source": [
    "network_sim.shape"
   ]
  },
  {
   "cell_type": "code",
   "execution_count": 37,
   "metadata": {},
   "outputs": [
    {
     "name": "stderr",
     "output_type": "stream",
     "text": [
      "100%|██████████| 31102164/31102164 [20:26<00:00, 25367.40it/s]"
     ]
    },
    {
     "name": "stdout",
     "output_type": "stream",
     "text": [
      "1226.0716116428375\n"
     ]
    },
    {
     "name": "stderr",
     "output_type": "stream",
     "text": [
      "\n"
     ]
    }
   ],
   "source": [
    "date_time = []\n",
    "t_start = time.time()\n",
    "for t in tqdm.tqdm(range(network_sim.shape[0])):\n",
    "    string = re.sub(r'T*Z*','',network_sim['start_dttm'][t])\n",
    "    match = re.match(r\"(\\d{4}\\-\\d{2}\\-\\d{2})(\\d{2}\\:\\d{2}\\:\\d{2})\", string, re.I)\n",
    "    if match:\n",
    "        items = match.groups()\n",
    "        items = re.sub(r\"[(),']\",\"\",str(items))\n",
    "    date_time.append(items)\n",
    "t_end = time.time()\n",
    "print(t_end-t_start)"
   ]
  },
  {
   "cell_type": "code",
   "execution_count": 109,
   "metadata": {},
   "outputs": [
    {
     "data": {
      "text/plain": [
       "[('Google', 1960),\n",
       " ('FACEBOOK.COM', 1923),\n",
       " ('CRASHLYTICS.COM', 660),\n",
       " ('APPSFLYER.COM', 634),\n",
       " ('Naver.jp Line', 542),\n",
       " ('ADZCORE.COM', 448),\n",
       " ('GOOGLETAGMANAGER.COM', 175),\n",
       " ('SONYERICSSON.COM', 174),\n",
       " ('SONYMOBILE.COM', 114),\n",
       " ('NIANTICLABS.COM', 96)]"
      ]
     },
     "execution_count": 109,
     "metadata": {},
     "output_type": "execute_result"
    }
   ],
   "source": [
    "Counter(network_sim[network_sim['USER_ID']==7]['media_provider_name']).most_common(10)"
   ]
  },
  {
   "cell_type": "code",
   "execution_count": null,
   "metadata": {},
   "outputs": [],
   "source": []
  }
 ],
 "metadata": {
  "kernelspec": {
   "display_name": "Python 3",
   "language": "python",
   "name": "python3"
  },
  "language_info": {
   "codemirror_mode": {
    "name": "ipython",
    "version": 3
   },
   "file_extension": ".py",
   "mimetype": "text/x-python",
   "name": "python",
   "nbconvert_exporter": "python",
   "pygments_lexer": "ipython3",
   "version": "3.6.3"
  }
 },
 "nbformat": 4,
 "nbformat_minor": 2
}
